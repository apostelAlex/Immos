{
 "cells": [
  {
   "cell_type": "code",
   "execution_count": 4,
   "metadata": {
    "tags": []
   },
   "outputs": [],
   "source": [
    "from selenium.common import JavascriptException\n",
    "from selenium import webdriver\n",
    "from webdriver_manager.chrome import ChromeDriverManager\n",
    "\n",
    "#driver = webdriver.Chrome('/Users/a2/tools/chromedriver')\n",
    "driver = webdriver.Safari()\n",
    "driver.get(f\"https://www.immowelt.de\")\n",
    "def button():\n",
    "    try:\n",
    "        driver.execute_script('document.querySelector(\"#usercentrics-root\").shadowRoot.querySelector(\"#uc-center-container > div.sc-ikJyIC.gpszuz > div > div > div > button.sc-gsDKAQ.fILFKg\").click()')\n",
    "    except JavascriptException:\n",
    "\n",
    "\n",
    "        \n",
    "        button()\n",
    "button()\n",
    "driver.maximize_window()"
   ]
  },
  {
   "cell_type": "code",
   "execution_count": 5,
   "metadata": {
    "collapsed": false,
    "jupyter": {
     "outputs_hidden": false
    }
   },
   "outputs": [
    {
     "data": {
      "text/plain": [
       "25518"
      ]
     },
     "execution_count": 5,
     "metadata": {},
     "output_type": "execute_result"
    }
   ],
   "source": [
    "import json\n",
    "_time = 1671801363\n",
    "with open(f'/Users/a2/.cache/immodynamics/{_time}/links.json', \"r\") as f:\n",
    "    filed = json.load(f)\n",
    "for n, i in enumerate(filed):\n",
    "    del filed[0]\n",
    "    if n== 4:\n",
    "        break\n",
    "len(filed)\n"
   ]
  },
  {
   "cell_type": "code",
   "execution_count": 6,
   "metadata": {},
   "outputs": [
    {
     "ename": "ValueError",
     "evalue": "could not convert string to float: 'H'",
     "output_type": "error",
     "traceback": [
      "\u001b[0;31m---------------------------------------------------------------------------\u001b[0m",
      "\u001b[0;31mValueError\u001b[0m                                Traceback (most recent call last)",
      "\u001b[1;32m/Users/a2/Desktop/Projects/Financials/Immos/collect/testing.ipynb Zelle 3\u001b[0m in \u001b[0;36m<cell line: 144>\u001b[0;34m()\u001b[0m\n\u001b[1;32m    <a href='vscode-notebook-cell:/Users/a2/Desktop/Projects/Financials/Immos/collect/testing.ipynb#W2sZmlsZQ%3D%3D?line=149'>150</a>\u001b[0m     \u001b[39mcontinue\u001b[39;00m\n\u001b[1;32m    <a href='vscode-notebook-cell:/Users/a2/Desktop/Projects/Financials/Immos/collect/testing.ipynb#W2sZmlsZQ%3D%3D?line=150'>151</a>\u001b[0m \u001b[39mtry\u001b[39;00m:\n\u001b[0;32m--> <a href='vscode-notebook-cell:/Users/a2/Desktop/Projects/Financials/Immos/collect/testing.ipynb#W2sZmlsZQ%3D%3D?line=151'>152</a>\u001b[0m     immo_anzeige \u001b[39m=\u001b[39m extract_data(driver)\n\u001b[1;32m    <a href='vscode-notebook-cell:/Users/a2/Desktop/Projects/Financials/Immos/collect/testing.ipynb#W2sZmlsZQ%3D%3D?line=152'>153</a>\u001b[0m \u001b[39mexcept\u001b[39;00m (\u001b[39mAssertionError\u001b[39;00m) \u001b[39mas\u001b[39;00m E:\n\u001b[1;32m    <a href='vscode-notebook-cell:/Users/a2/Desktop/Projects/Financials/Immos/collect/testing.ipynb#W2sZmlsZQ%3D%3D?line=153'>154</a>\u001b[0m     \u001b[39mprint\u001b[39m(E)\n",
      "\u001b[1;32m/Users/a2/Desktop/Projects/Financials/Immos/collect/testing.ipynb Zelle 3\u001b[0m in \u001b[0;36mextract_data\u001b[0;34m(driver)\u001b[0m\n\u001b[1;32m    <a href='vscode-notebook-cell:/Users/a2/Desktop/Projects/Financials/Immos/collect/testing.ipynb#W2sZmlsZQ%3D%3D?line=130'>131</a>\u001b[0m \u001b[39mdef\u001b[39;00m \u001b[39mextract_data\u001b[39m(driver):\n\u001b[0;32m--> <a href='vscode-notebook-cell:/Users/a2/Desktop/Projects/Financials/Immos/collect/testing.ipynb#W2sZmlsZQ%3D%3D?line=131'>132</a>\u001b[0m     \u001b[39mreturn\u001b[39;00m decode_expose_immowelt(driver)\n",
      "\u001b[1;32m/Users/a2/Desktop/Projects/Financials/Immos/collect/testing.ipynb Zelle 3\u001b[0m in \u001b[0;36mdecode_expose_immowelt\u001b[0;34m(driver)\u001b[0m\n\u001b[1;32m    <a href='vscode-notebook-cell:/Users/a2/Desktop/Projects/Financials/Immos/collect/testing.ipynb#W2sZmlsZQ%3D%3D?line=121'>122</a>\u001b[0m df[\u001b[39m\"\u001b[39m\u001b[39mdescription\u001b[39m\u001b[39m\"\u001b[39m] \u001b[39m=\u001b[39m np\u001b[39m.\u001b[39marray([driver\u001b[39m.\u001b[39mfind_element(By\u001b[39m.\u001b[39mXPATH, \u001b[39m\"\u001b[39m\u001b[39m//*[@id=\u001b[39m\u001b[39m\\\"\u001b[39;00m\u001b[39mjs_innerBody\u001b[39m\u001b[39m\\\"\u001b[39;00m\u001b[39m]/div[2]/main/app-expose/div[3]/div[3]/sd-container[1]/sd-row[7]/sd-col/app-details/sd-card/app-texts/sd-read-more[1]/div\u001b[39m\u001b[39m\"\u001b[39m)\u001b[39m.\u001b[39mtext])\n\u001b[1;32m    <a href='vscode-notebook-cell:/Users/a2/Desktop/Projects/Financials/Immos/collect/testing.ipynb#W2sZmlsZQ%3D%3D?line=123'>124</a>\u001b[0m df[\u001b[39m'\u001b[39m\u001b[39mensource\u001b[39m\u001b[39m'\u001b[39m] \u001b[39m=\u001b[39m np\u001b[39m.\u001b[39marray([get_ensource(driver)], dtype\u001b[39m=\u001b[39m\u001b[39mstr\u001b[39m)\n\u001b[0;32m--> <a href='vscode-notebook-cell:/Users/a2/Desktop/Projects/Financials/Immos/collect/testing.ipynb#W2sZmlsZQ%3D%3D?line=124'>125</a>\u001b[0m df[\u001b[39m'\u001b[39m\u001b[39meffclass\u001b[39m\u001b[39m'\u001b[39m] \u001b[39m=\u001b[39m np\u001b[39m.\u001b[39;49marray([get_effclass(driver)], dtype\u001b[39m=\u001b[39;49mnp\u001b[39m.\u001b[39;49mfloat64)\n\u001b[1;32m    <a href='vscode-notebook-cell:/Users/a2/Desktop/Projects/Financials/Immos/collect/testing.ipynb#W2sZmlsZQ%3D%3D?line=125'>126</a>\u001b[0m df[\u001b[39m'\u001b[39m\u001b[39menbed\u001b[39m\u001b[39m'\u001b[39m] \u001b[39m=\u001b[39m np\u001b[39m.\u001b[39marray([get_enbed(driver)], dtype\u001b[39m=\u001b[39mnp\u001b[39m.\u001b[39mint16)\n\u001b[1;32m    <a href='vscode-notebook-cell:/Users/a2/Desktop/Projects/Financials/Immos/collect/testing.ipynb#W2sZmlsZQ%3D%3D?line=126'>127</a>\u001b[0m df[\u001b[39m'\u001b[39m\u001b[39mbuilt\u001b[39m\u001b[39m'\u001b[39m] \u001b[39m=\u001b[39m np\u001b[39m.\u001b[39marray([get_built(driver)], dtype\u001b[39m=\u001b[39mnp\u001b[39m.\u001b[39mint16)\n",
      "\u001b[0;31mValueError\u001b[0m: could not convert string to float: 'H'"
     ]
    }
   ],
   "source": [
    "del filed[0]\n",
    "import pandas as pd\n",
    "import numpy as np\n",
    "from selenium.common.exceptions import NoSuchElementException\n",
    "import os\n",
    "import time\n",
    "from selenium.webdriver.common.by import By\n",
    "def get_id(driver, s): \n",
    "    if s == \"immowelt\":\n",
    "        raw = driver.current_url\n",
    "        return f\"iwe{raw[-7:]}\"\n",
    "\n",
    "# def first_seen(id):\n",
    "#     try:\n",
    "#         dirs = os.listdir(f\"/Users/a2/.cache/immodynamics/{id}\")\n",
    "#     except FileNotFoundError:\n",
    "#         return None\n",
    "#     else:\n",
    "#         dirs.sort()\n",
    "#         #catch wrong files\n",
    "#         for i in dirs:\n",
    "#             if os.path.isdir(f\"/Users/a2/.cache/immodynamics/{id}/{i}\"):\n",
    "#                 return i\n",
    "\n",
    "\n",
    "def get_en_wrapper(driver):\n",
    "    return driver.find_element(By.XPATH, '//*[@id=\"js_innerBody\"]/div[2]/main/app-expose/div[3]/div[3]/sd-container[1]/sd-row[6]/sd-col/app-energy/sd-card')\n",
    "def get_ensource(driver):\n",
    "    try:\n",
    "        wrapper = get_en_wrapper(driver)\n",
    "        h3 = wrapper.find_element(By.TAG_NAME, 'h3')\n",
    "        div = driver.execute_script(\"return arguments[0].nextElementSibling\", h3)\n",
    "        et = div.find_elements(By.TAG_NAME, 'p')[1]\n",
    "        return et.text\n",
    "    except NoSuchElementException:\n",
    "        return\n",
    "\n",
    "def get_enbed(driver):\n",
    "    try:\n",
    "        wrapper = get_en_wrapper(driver)\n",
    "        ps = wrapper.find_elements(By.TAG_NAME, 'p')\n",
    "\n",
    "        for p in ps:\n",
    "            if p.text == 'Endenergiebedarf':\n",
    "                return int(driver.execute_script(\"return arguments[0].nextElementSibling\", p).text)\n",
    "            if  p.text == 'Endenergieverbrauch':\n",
    "                return int(driver.execute_script(\"return arguments[0].nextElementSibling\", p).text.split(','))\n",
    "    except:\n",
    "        return 0\n",
    "\n",
    "\n",
    "def get_effclass(driver):\n",
    "    try:\n",
    "        wrapper = get_en_wrapper(driver)\n",
    "        ps = wrapper.find_elements(By.TAG_NAME, 'p')\n",
    "\n",
    "        for p in ps:\n",
    "            if p.text == 'Effizienzklasse':\n",
    "                return driver.execute_script(\"return arguments[0].nextElementSibling\", p).text\n",
    "    except:\n",
    "        enbed = get_enbed(driver)\n",
    "        if enbed != 0:\n",
    "            if enbed<30:\n",
    "                return 0\n",
    "            if enbed<50:\n",
    "                return 1\n",
    "            if enbed<75:\n",
    "                return 2\n",
    "            if enbed<100:\n",
    "                return 3\n",
    "            if enbed<130:\n",
    "                return 4\n",
    "            if enbed<160:\n",
    "                return 5\n",
    "            if enbed<200:\n",
    "                return 6\n",
    "            if enbed<250:\n",
    "                return 7\n",
    "            if enbed<300:\n",
    "                return 8\n",
    "            else:\n",
    "                return -1\n",
    "        else:\n",
    "            return -1\n",
    "\n",
    "def get_built(driver):\n",
    "    wrapper = driver.find_element(By.XPATH, '//*[@id=\"aImmobilie\"]/sd-card')\n",
    "    spans = wrapper.find_elements(By.TAG_NAME, 'span')\n",
    "    for s in spans:\n",
    "        if s.text.startswith('Baujahr:'):\n",
    "            li = s.find_element(By.XPATH, '..')\n",
    "    return int(li.text[-4:].split(\",\")[0].replace('.', \"\"))\n",
    "\n",
    "\n",
    "\n",
    "def decode_expose_immowelt(driver):\n",
    "    time.sleep(2)\n",
    "    df = pd.DataFrame()\n",
    "    df[\"id\"] = np.array([get_id(driver, \"immowelt\")], dtype=str)\n",
    "    df[\"url\"] = np.array([driver.current_url])\n",
    "    temp = driver.find_element(By.XPATH, \"//*[@id=\\\"aUebersicht\\\"]/app-hardfacts/div/div/div[1]/div[1]/strong\").get_attribute(\"innerHTML\")[:-2]\n",
    "    temp = temp.split('&')[0].split(',')[0].replace('.', \"\")\n",
    "    df[\"preis\"] = np.array([int(temp)], dtype=np.int16)    \n",
    "    \n",
    "    df[\"typ\"] = np.array([1], dtype=np.int8)\n",
    "    df[\"qm\"] = np.array([int(float((driver.find_element(By.XPATH, \"//*[@id=\\\"aUebersicht\\\"]/app-hardfacts/div/div/div[2]/div[1]/span\").get_attribute(\"innerHTML\")[:-3]).replace(\".\", \"\").replace(\",\", \".\")))], dtype=np.int16)\n",
    "    df[\"zimmer\"] = np.array([int(float(driver.find_element(By.XPATH, \"//*[@id=\\\"aUebersicht\\\"]/app-hardfacts/div/div/div[2]/div[2]/span\").get_attribute(\"innerHTML\").replace(\".\", \"\").replace(\",\", \".\")))], dtype=np.int8)\n",
    "    \n",
    "    df[\"plz\"] = np.array([int(driver.find_element(By.XPATH, '//*[@id=\"exposeAddress\"]/sd-cell/sd-cell-row/sd-cell-col[2]/span[2]/div[1]').get_attribute(\"innerHTML\")[:5])], dtype=np.int32)\n",
    "\n",
    "    try:\n",
    "        driver.find_element(By.XPATH, \"//*[@id=\\\"js_innerBody\\\"]/div[2]/main/app-expose/div[3]/div[3]/sd-container[1]/sd-row[7]/sd-col/app-details/sd-card/app-texts/sd-read-more[1]/a\").click()\n",
    "    except:\n",
    "        try:\n",
    "            time.sleep(0.5)\n",
    "            driver.find_element(By.XPATH, \"//*[@id=\\\"js_innerBody\\\"]/div[2]/main/app-expose/div[3]/div[3]/sd-container[1]/sd-row[7]/sd-col/app-details/sd-card/app-texts/sd-read-more[1]/a\").click()\n",
    "        except: \n",
    "            pass\n",
    "\n",
    "    time.sleep(1)\n",
    "\n",
    "    df[\"description\"] = np.array([driver.find_element(By.XPATH, \"//*[@id=\\\"js_innerBody\\\"]/div[2]/main/app-expose/div[3]/div[3]/sd-container[1]/sd-row[7]/sd-col/app-details/sd-card/app-texts/sd-read-more[1]/div\").text])\n",
    "    \n",
    "    df['ensource'] = np.array([get_ensource(driver)], dtype=str)\n",
    "    df['effclass'] = np.array([get_effclass(driver)], dtype=np.float64)\n",
    "    df['enbed'] = np.array([get_enbed(driver)], dtype=np.int16)\n",
    "    df['built'] = np.array([get_built(driver)], dtype=np.int16)\n",
    "\n",
    "    return df\n",
    "links = filed\n",
    "def extract_data(driver):\n",
    "    return decode_expose_immowelt(driver)\n",
    "\n",
    "def export_immo(propys, _time):\n",
    "    import pandas as pd\n",
    "    df = pd.DataFrame(propys)\n",
    "    df.to_csv(f\"/Users/a2/.cache/immodynamics/{_time}/properties{propys['id']}.csv\")\n",
    "    try:\n",
    "        return propys[\"id\"]\n",
    "    except:\n",
    "        return\n",
    "\n",
    "\n",
    "for l in links:\n",
    "    if l.startswith(\"https://www.immowelt.de/expose/\"):\n",
    "        f = ['https://www.immowelt.de/expose/279my5j', 'https://www.immowelt.de/expose/27ehy5j', 'https://www.immowelt.de/expose/2mfmj4n']\n",
    "        if l not in f:\n",
    "            driver.get(l)\n",
    "    else:\n",
    "        continue\n",
    "    try:\n",
    "        immo_anzeige = extract_data(driver)\n",
    "    except (AssertionError) as E:\n",
    "        print(E)\n",
    "        continue\n",
    "    id = export_immo(immo_anzeige, _time)"
   ]
  },
  {
   "cell_type": "code",
   "execution_count": null,
   "metadata": {},
   "outputs": [],
   "source": []
  },
  {
   "cell_type": "code",
   "execution_count": 12,
   "metadata": {},
   "outputs": [
    {
     "name": "stderr",
     "output_type": "stream",
     "text": [
      "/var/folders/nd/5lmcqchd27b_ctzb2whh36800000gn/T/ipykernel_14519/1421785319.py:3: DeprecationWarning: executable_path has been deprecated, please pass in a Service object\n",
      "  driver2 = webdriver.Chrome('/Users/a2/tools/chromedriver')\n"
     ]
    }
   ],
   "source": [
    "from selenium.common import JavascriptException\n",
    "from selenium import webdriver\n",
    "driver2 = webdriver.Chrome('/Users/a2/tools/chromedriver')\n",
    "driver2.get('https://www.google.com')"
   ]
  },
  {
   "cell_type": "code",
   "execution_count": 5,
   "metadata": {},
   "outputs": [
    {
     "ename": "SessionNotCreatedException",
     "evalue": "Message: Could not create a session: The Safari instance is already paired with another WebDriver session.\n",
     "output_type": "error",
     "traceback": [
      "\u001b[0;31m---------------------------------------------------------------------------\u001b[0m",
      "\u001b[0;31mSessionNotCreatedException\u001b[0m                Traceback (most recent call last)",
      "\u001b[1;32m/Users/a2/Desktop/Projects/Financials/Immos/collect/testing.ipynb Zelle 5\u001b[0m in \u001b[0;36m<cell line: 1>\u001b[0;34m()\u001b[0m\n\u001b[0;32m----> <a href='vscode-notebook-cell:/Users/a2/Desktop/Projects/Financials/Immos/collect/testing.ipynb#W4sZmlsZQ%3D%3D?line=0'>1</a>\u001b[0m driver2 \u001b[39m=\u001b[39m webdriver\u001b[39m.\u001b[39;49mSafari()\n\u001b[1;32m      <a href='vscode-notebook-cell:/Users/a2/Desktop/Projects/Financials/Immos/collect/testing.ipynb#W4sZmlsZQ%3D%3D?line=1'>2</a>\u001b[0m driver2\u001b[39m.\u001b[39mget(\u001b[39m'\u001b[39m\u001b[39mhttps://www.google.com\u001b[39m\u001b[39m'\u001b[39m)\n",
      "File \u001b[0;32m~/opt/anaconda3/lib/python3.8/site-packages/selenium/webdriver/safari/webdriver.py:93\u001b[0m, in \u001b[0;36mWebDriver.__init__\u001b[0;34m(self, port, executable_path, reuse_service, desired_capabilities, quiet, keep_alive, service_args, options, service)\u001b[0m\n\u001b[1;32m     88\u001b[0m     \u001b[39mself\u001b[39m\u001b[39m.\u001b[39mservice\u001b[39m.\u001b[39mstart()\n\u001b[1;32m     90\u001b[0m executor \u001b[39m=\u001b[39m SafariRemoteConnection(remote_server_addr\u001b[39m=\u001b[39m\u001b[39mself\u001b[39m\u001b[39m.\u001b[39mservice\u001b[39m.\u001b[39mservice_url,\n\u001b[1;32m     91\u001b[0m                                   keep_alive\u001b[39m=\u001b[39mkeep_alive)\n\u001b[0;32m---> 93\u001b[0m \u001b[39msuper\u001b[39;49m()\u001b[39m.\u001b[39;49m\u001b[39m__init__\u001b[39;49m(\n\u001b[1;32m     94\u001b[0m     command_executor\u001b[39m=\u001b[39;49mexecutor,\n\u001b[1;32m     95\u001b[0m     options\u001b[39m=\u001b[39;49moptions,\n\u001b[1;32m     96\u001b[0m     desired_capabilities\u001b[39m=\u001b[39;49mdesired_capabilities)\n\u001b[1;32m     98\u001b[0m \u001b[39mself\u001b[39m\u001b[39m.\u001b[39m_is_remote \u001b[39m=\u001b[39m \u001b[39mFalse\u001b[39;00m\n",
      "File \u001b[0;32m~/opt/anaconda3/lib/python3.8/site-packages/selenium/webdriver/remote/webdriver.py:277\u001b[0m, in \u001b[0;36mWebDriver.__init__\u001b[0;34m(self, command_executor, desired_capabilities, browser_profile, proxy, keep_alive, file_detector, options)\u001b[0m\n\u001b[1;32m    275\u001b[0m \u001b[39mself\u001b[39m\u001b[39m.\u001b[39m_authenticator_id \u001b[39m=\u001b[39m \u001b[39mNone\u001b[39;00m\n\u001b[1;32m    276\u001b[0m \u001b[39mself\u001b[39m\u001b[39m.\u001b[39mstart_client()\n\u001b[0;32m--> 277\u001b[0m \u001b[39mself\u001b[39;49m\u001b[39m.\u001b[39;49mstart_session(capabilities, browser_profile)\n",
      "File \u001b[0;32m~/opt/anaconda3/lib/python3.8/site-packages/selenium/webdriver/remote/webdriver.py:370\u001b[0m, in \u001b[0;36mWebDriver.start_session\u001b[0;34m(self, capabilities, browser_profile)\u001b[0m\n\u001b[1;32m    368\u001b[0m w3c_caps \u001b[39m=\u001b[39m _make_w3c_caps(capabilities)\n\u001b[1;32m    369\u001b[0m parameters \u001b[39m=\u001b[39m {\u001b[39m\"\u001b[39m\u001b[39mcapabilities\u001b[39m\u001b[39m\"\u001b[39m: w3c_caps}\n\u001b[0;32m--> 370\u001b[0m response \u001b[39m=\u001b[39m \u001b[39mself\u001b[39;49m\u001b[39m.\u001b[39;49mexecute(Command\u001b[39m.\u001b[39;49mNEW_SESSION, parameters)\n\u001b[1;32m    371\u001b[0m \u001b[39mif\u001b[39;00m \u001b[39m'\u001b[39m\u001b[39msessionId\u001b[39m\u001b[39m'\u001b[39m \u001b[39mnot\u001b[39;00m \u001b[39min\u001b[39;00m response:\n\u001b[1;32m    372\u001b[0m     response \u001b[39m=\u001b[39m response[\u001b[39m'\u001b[39m\u001b[39mvalue\u001b[39m\u001b[39m'\u001b[39m]\n",
      "File \u001b[0;32m~/opt/anaconda3/lib/python3.8/site-packages/selenium/webdriver/remote/webdriver.py:435\u001b[0m, in \u001b[0;36mWebDriver.execute\u001b[0;34m(self, driver_command, params)\u001b[0m\n\u001b[1;32m    433\u001b[0m response \u001b[39m=\u001b[39m \u001b[39mself\u001b[39m\u001b[39m.\u001b[39mcommand_executor\u001b[39m.\u001b[39mexecute(driver_command, params)\n\u001b[1;32m    434\u001b[0m \u001b[39mif\u001b[39;00m response:\n\u001b[0;32m--> 435\u001b[0m     \u001b[39mself\u001b[39;49m\u001b[39m.\u001b[39;49merror_handler\u001b[39m.\u001b[39;49mcheck_response(response)\n\u001b[1;32m    436\u001b[0m     response[\u001b[39m'\u001b[39m\u001b[39mvalue\u001b[39m\u001b[39m'\u001b[39m] \u001b[39m=\u001b[39m \u001b[39mself\u001b[39m\u001b[39m.\u001b[39m_unwrap_value(\n\u001b[1;32m    437\u001b[0m         response\u001b[39m.\u001b[39mget(\u001b[39m'\u001b[39m\u001b[39mvalue\u001b[39m\u001b[39m'\u001b[39m, \u001b[39mNone\u001b[39;00m))\n\u001b[1;32m    438\u001b[0m     \u001b[39mreturn\u001b[39;00m response\n",
      "File \u001b[0;32m~/opt/anaconda3/lib/python3.8/site-packages/selenium/webdriver/remote/errorhandler.py:247\u001b[0m, in \u001b[0;36mErrorHandler.check_response\u001b[0;34m(self, response)\u001b[0m\n\u001b[1;32m    245\u001b[0m         alert_text \u001b[39m=\u001b[39m value[\u001b[39m'\u001b[39m\u001b[39malert\u001b[39m\u001b[39m'\u001b[39m]\u001b[39m.\u001b[39mget(\u001b[39m'\u001b[39m\u001b[39mtext\u001b[39m\u001b[39m'\u001b[39m)\n\u001b[1;32m    246\u001b[0m     \u001b[39mraise\u001b[39;00m exception_class(message, screen, stacktrace, alert_text)  \u001b[39m# type: ignore[call-arg]  # mypy is not smart enough here\u001b[39;00m\n\u001b[0;32m--> 247\u001b[0m \u001b[39mraise\u001b[39;00m exception_class(message, screen, stacktrace)\n",
      "\u001b[0;31mSessionNotCreatedException\u001b[0m: Message: Could not create a session: The Safari instance is already paired with another WebDriver session.\n"
     ]
    }
   ],
   "source": [
    "\n",
    "driver2 = webdriver.Safari()\n",
    "driver2.get('https://www.google.com')"
   ]
  },
  {
   "cell_type": "code",
   "execution_count": null,
   "metadata": {},
   "outputs": [],
   "source": []
  }
 ],
 "metadata": {
  "kernelspec": {
   "display_name": "Python 3 (ipykernel)",
   "language": "python",
   "name": "python3"
  },
  "language_info": {
   "codemirror_mode": {
    "name": "ipython",
    "version": 3
   },
   "file_extension": ".py",
   "mimetype": "text/x-python",
   "name": "python",
   "nbconvert_exporter": "python",
   "pygments_lexer": "ipython3",
   "version": "3.8.13 (default, Mar 28 2022, 06:16:26) \n[Clang 12.0.0 ]"
  },
  "vscode": {
   "interpreter": {
    "hash": "cb44c743f0b3782ea036ea7bb6fdb4b0d7f1b42f1ff1b1dea3fc9f88b3cb6e55"
   }
  }
 },
 "nbformat": 4,
 "nbformat_minor": 4
}
