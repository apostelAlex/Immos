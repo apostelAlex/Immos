{
 "cells": [
  {
   "cell_type": "code",
   "execution_count": 13,
   "id": "34f1d7ff-6a77-4bc3-9cd9-ef2d34141cca",
   "metadata": {},
   "outputs": [],
   "source": [
    "import json\n",
    "with open('/Users/a2/.cache/immodynamics/1666468797/links.json') as f:\n",
    "    links = json.load(f)\n",
    "    "
   ]
  }
 ],
 "metadata": {
  "kernelspec": {
   "display_name": "Python 3 (ipykernel)",
   "language": "python",
   "name": "python3"
  },
  "language_info": {
   "codemirror_mode": {
    "name": "ipython",
    "version": 3
   },
   "file_extension": ".py",
   "mimetype": "text/x-python",
   "name": "python",
   "nbconvert_exporter": "python",
   "pygments_lexer": "ipython3",
   "version": "3.8.13"
  }
 },
 "nbformat": 4,
 "nbformat_minor": 5
}
