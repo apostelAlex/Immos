{
 "cells": [
  {
   "cell_type": "code",
   "execution_count": 26,
   "metadata": {
    "collapsed": true
   },
   "outputs": [],
   "source": [
    "import pandas as pd\n",
    "import numpy as np\n",
    "import  os\n",
    "import json"
   ]
  },
  {
   "cell_type": "code",
   "execution_count": 27,
   "outputs": [],
   "source": [
    "cache_folder = \"/Users/a2/.cache/immodynamics\"\n",
    "\n",
    "timestamp = \"1661699709\"\n",
    "timestamps = os.listdir(cache_folder)\n",
    "#filter helper folders (csvs,..)\n",
    "for n, f in enumerate(timestamps):\n",
    "    if f.startswith(\".\"):\n",
    "        del timestamps[n]"
   ],
   "metadata": {
    "collapsed": false
   }
  },
  {
   "cell_type": "code",
   "execution_count": 28,
   "outputs": [],
   "source": [
    "#get json files and keys\n",
    "files_in_folder = os.listdir(f\"{cache_folder}/{timestamp}\")\n",
    "json_files = []\n",
    "for f in files_in_folder:\n",
    "    if f.endswith(\".json\"):\n",
    "        json_files.append(f)\n",
    "n = 0\n",
    "with open(f\"{cache_folder}/{timestamp}/{json_files[n]}\", \"r\") as f:\n",
    "    jsn = json.load(f)\n",
    "dict_keys = list(jsn.keys())\n",
    "n_dicts = len(json_files)\n"
   ],
   "metadata": {
    "collapsed": false
   }
  },
  {
   "cell_type": "code",
   "execution_count": 29,
   "outputs": [],
   "source": [
    "df  = pd.DataFrame()\n",
    "for k in dict_keys:\n",
    "    df[k] = np.zeros(n_dicts)"
   ],
   "metadata": {
    "collapsed": false
   }
  },
  {
   "cell_type": "code",
   "execution_count": 33,
   "outputs": [],
   "source": [
    "for n, j in enumerate(json_files): #for every json_file add the values to the DataFrame\n",
    "    with open(f\"{cache_folder}/{timestamp}/{json_files[n]}\", \"r\") as f:\n",
    "        jsn = json.load(f)\n",
    "    for i in dict_keys:\n",
    "        df[i][n] = jsn[f\"{i}\"]\n"
   ],
   "metadata": {
    "collapsed": false
   }
  },
  {
   "cell_type": "code",
   "execution_count": 36,
   "outputs": [],
   "source": [
    "#export df\n",
    "with open(f\"{cache_folder}/{timestamp}/{timestamp}.csv\", \"w\") as f:\n",
    "    df.to_csv(f)"
   ],
   "metadata": {
    "collapsed": false
   }
  }
 ],
 "metadata": {
  "kernelspec": {
   "display_name": "Python 3",
   "language": "python",
   "name": "python3"
  },
  "language_info": {
   "codemirror_mode": {
    "name": "ipython",
    "version": 2
   },
   "file_extension": ".py",
   "mimetype": "text/x-python",
   "name": "python",
   "nbconvert_exporter": "python",
   "pygments_lexer": "ipython2",
   "version": "2.7.6"
  }
 },
 "nbformat": 4,
 "nbformat_minor": 0
}
