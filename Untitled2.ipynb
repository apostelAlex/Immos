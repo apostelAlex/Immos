{
 "cells": [
  {
   "cell_type": "code",
   "execution_count": 13,
   "id": "34f1d7ff-6a77-4bc3-9cd9-ef2d34141cca",
   "metadata": {},
   "outputs": [],
   "source": [
    "import json\n",
    "with open('/Users/a2/.cache/immodynamics/1666468797/links.json') as f:\n",
    "    links = json.load(f)\n",
    "    "
   ]
  },
  {
   "cell_type": "code",
   "execution_count": 14,
   "id": "49090116-bbb3-4c38-8bd1-a3716387073d",
   "metadata": {},
   "outputs": [
    {
     "data": {
      "text/plain": [
       "25460"
      ]
     },
     "execution_count": 14,
     "metadata": {},
     "output_type": "execute_result"
    }
   ],
   "source": [
    "len(links)"
   ]
  },
  {
   "cell_type": "code",
   "execution_count": 4,
   "id": "1e0ff492-dac1-4559-8cb5-37bcba8b9333",
   "metadata": {},
   "outputs": [],
   "source": [
    "for n, i in enumerate(links): \n",
    "    if i in links[n+1:]:\n",
    "        del links[n]"
   ]
  },
  {
   "cell_type": "code",
   "execution_count": 6,
   "id": "82c7dc69-80c6-42a6-97af-69df585a73a3",
   "metadata": {},
   "outputs": [
    {
     "data": {
      "text/plain": [
       "12730"
      ]
     },
     "execution_count": 6,
     "metadata": {},
     "output_type": "execute_result"
    }
   ],
   "source": [
    "len(links)\n"
   ]
  },
  {
   "cell_type": "code",
   "execution_count": 7,
   "id": "6a7cb8da-29f2-48c5-ac85-76a783bfb26a",
   "metadata": {},
   "outputs": [],
   "source": [
    "for n, i in enumerate(links): \n",
    "    if i in links[n:]:\n",
    "        del links[n]"
   ]
  },
  {
   "cell_type": "code",
   "execution_count": 8,
   "id": "02f7d2bf-e5ec-4bc5-87e2-6cc8b1068959",
   "metadata": {},
   "outputs": [
    {
     "data": {
      "text/plain": [
       "6365"
      ]
     },
     "execution_count": 8,
     "metadata": {},
     "output_type": "execute_result"
    }
   ],
   "source": [
    "len(links)"
   ]
  },
  {
   "cell_type": "code",
   "execution_count": 9,
   "id": "acd0d3f3-8465-4d41-999c-a1e2d9424dcb",
   "metadata": {},
   "outputs": [],
   "source": [
    "for n, i in enumerate(links): \n",
    "    if i in links[n:]:\n",
    "        del links[n]"
   ]
  },
  {
   "cell_type": "code",
   "execution_count": 10,
   "id": "11a94efc-2323-46f2-9d77-d3fc25e9a999",
   "metadata": {},
   "outputs": [
    {
     "data": {
      "text/plain": [
       "3182"
      ]
     },
     "execution_count": 10,
     "metadata": {},
     "output_type": "execute_result"
    }
   ],
   "source": [
    "len(links)"
   ]
  },
  {
   "cell_type": "code",
   "execution_count": 11,
   "id": "0761b29b-1e0e-4203-846c-430b49e5c5db",
   "metadata": {},
   "outputs": [
    {
     "data": {
      "text/plain": [
       "1591"
      ]
     },
     "execution_count": 11,
     "metadata": {},
     "output_type": "execute_result"
    }
   ],
   "source": [
    "for n, i in enumerate(links): \n",
    "    if i in links[n:]:\n",
    "        del links[n]\n",
    "len(links)"
   ]
  },
  {
   "cell_type": "code",
   "execution_count": 12,
   "id": "ee90ad9f-35c8-4bba-987f-2e4465433868",
   "metadata": {},
   "outputs": [
    {
     "data": {
      "text/plain": [
       "795"
      ]
     },
     "execution_count": 12,
     "metadata": {},
     "output_type": "execute_result"
    }
   ],
   "source": [
    "for n, i in enumerate(links): \n",
    "    if i in links[n:]:\n",
    "        del links[n]\n",
    "len(links)"
   ]
  },
  {
   "cell_type": "code",
   "execution_count": null,
   "id": "e8459909-3a60-4dc6-8d2d-aae9c35b89c5",
   "metadata": {},
   "outputs": [],
   "source": []
  }
 ],
 "metadata": {
  "kernelspec": {
   "display_name": "Python 3 (ipykernel)",
   "language": "python",
   "name": "python3"
  },
  "language_info": {
   "codemirror_mode": {
    "name": "ipython",
    "version": 3
   },
   "file_extension": ".py",
   "mimetype": "text/x-python",
   "name": "python",
   "nbconvert_exporter": "python",
   "pygments_lexer": "ipython3",
   "version": "3.8.13"
  }
 },
 "nbformat": 4,
 "nbformat_minor": 5
}
