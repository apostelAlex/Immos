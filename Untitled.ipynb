{
 "cells": [
  {
   "cell_type": "code",
   "execution_count": null,
   "id": "e93dba78",
   "metadata": {},
   "outputs": [],
   "source": [
    "#mietspiegel mannheim\n",
    "\n",
    "###MIT STATISTISCHER UNGENAUIGKEIT\n",
    "#objektname\n",
    "#fläche\n",
    "#baujahr\n",
    "### BADEWANNE\n",
    "### WC IM BADEZIMMER\n",
    "### WÄNDE IM SPRITZWASSERBEREICH GESCHÜTZT \n",
    "### WASCHMASCHINENANSCHLUSS\n",
    "### DUSCHKABINE\n",
    "### HANDTUCHHEIZKÖRPER\n",
    "### LÜFTERANLAGE\n",
    "### BODENGLEICHE DUSCHE\n",
    "### ZWEITES WASCHBECKEN IM SELBEN BAD\n",
    "#kühlschrank\n",
    "### HERD\n",
    "#backofen\n",
    "### KÜCHENSCHRÄNKE\n",
    "### DUNSTABZUG\n",
    "### SPÜLMASCHINE\n",
    "### separater gefrierschrank\n",
    "### ALTER KÜCHE\n",
    "#keine Heizung\n",
    "#mind. 1 Zi ohne Heizung\n",
    "#Zentralheizung\n",
    "#Fußbodenheizung\n",
    "#Parkettboden\n",
    "#Videoanlage\n",
    "#aufzug\n",
    "\n",
    "#Renovierung\n",
    "#straße\n"
   ]
  },
  {
   "cell_type": "code",
   "execution_count": 5,
   "outputs": [],
   "source": [
    "import json\n",
    "jsn = {\n",
    "    'price': 200000,\n",
    "    'area': 67,\n",
    "    'rooms': 2\n",
    "}\n",
    "with open(f\"/Users/a2/.cache/immodynamics/1661699709/test.json\", \"w\") as f:\n",
    "    json.dump(jsn,f)"
   ],
   "metadata": {
    "collapsed": false
   }
  }
 ],
 "metadata": {
  "kernelspec": {
   "display_name": "Python 3 (ipykernel)",
   "language": "python",
   "name": "python3"
  },
  "language_info": {
   "codemirror_mode": {
    "name": "ipython",
    "version": 3
   },
   "file_extension": ".py",
   "mimetype": "text/x-python",
   "name": "python",
   "nbconvert_exporter": "python",
   "pygments_lexer": "ipython3",
   "version": "3.8.13"
  }
 },
 "nbformat": 4,
 "nbformat_minor": 5
}
