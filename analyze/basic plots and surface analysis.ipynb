{
 "cells": [
  {
   "cell_type": "code",
   "execution_count": 47,
   "metadata": {
    "collapsed": true
   },
   "outputs": [],
   "source": [
    "import pandas as pd\n",
    "import numpy as np\n",
    "import  os\n",
    "import plotly.graph_objects as go\n",
    "import json\n",
    "import ipywidgets as wdg"
   ]
  },
  {
   "cell_type": "code",
   "execution_count": 48,
   "outputs": [],
   "source": [
    "csv_file = '/Users/a2/.cache/immodynamics/1661699709/1661699709.csv'\n",
    "csv_file_folder = '/Users/a2/.cache/immodynamics/.csv'\n",
    "csv_files = os.listdir(csv_file_folder)\n",
    "n_csv = 0 #what csv file is going to be shown\n",
    "\n",
    "figure_basic_prices = go.FigureWidget(go.Bar(x=[x for x in range(100)], y=np.zeros(100)))\n",
    "figure_price_sqm = go.FigureWidget(go.Bar(x=[x for x in range(100)], y=np.zeros(100) ))"
   ],
   "metadata": {
    "collapsed": false
   }
  },
  {
   "cell_type": "code",
   "execution_count": 49,
   "outputs": [],
   "source": [
    "def show_price_sqm(n):\n",
    "    csv_file = csv_files[n]\n",
    "    df = pd.read_csv(f\"{csv_file_folder}/{csv_file}\")\n",
    "    p_over_sqm = np.zeros(len(df['price']))\n",
    "    for n in range(len(p_over_sqm)):\n",
    "        p_over_sqm[n] = df['price'][n]/df['area'][n]\n",
    "    min_p_o_s = p_over_sqm.min()\n",
    "    max_p_o_s = p_over_sqm.max()\n",
    "    steps = (max_p_o_s - min_p_o_s)/100\n",
    "    count_arr = np.zeros(len(df['price']))\n",
    "    for f in df['price']:\n",
    "        n = (int(f) - min_p_o_s)/steps\n",
    "        count_arr[n] += 1\n",
    "    figure_price_sqm.update(count_arr)\n"
   ],
   "metadata": {
    "collapsed": false
   }
  },
  {
   "cell_type": "code",
   "execution_count": 51,
   "outputs": [],
   "source": [
    "def show_csv_price(n):\n",
    "    csv_file = csv_files[n]\n",
    "    df = pd.read_csv(f\"{csv_file_folder}/{csv_file}\")\n",
    "    min_price = df['price'].min()\n",
    "    max_price = df['price'].max()\n",
    "    steps = (max_price - min_price)/100\n",
    "    df = df.sort_values('price')\n",
    "    count_arr = np.zeros(len(df['price']))\n",
    "    assert steps >= 50, \"you have too little Values.\"\n",
    "\n",
    "    for f in df['price']:\n",
    "        n = (f- min_price )/steps\n",
    "        count_arr[n] += 1\n",
    "    figure_basic_prices.update(count_arr)\n",
    "\n",
    "\n",
    "\n"
   ],
   "metadata": {
    "collapsed": false
   }
  },
  {
   "cell_type": "code",
   "execution_count": 52,
   "outputs": [],
   "source": [
    "def before_plot(i):\n",
    "    global n_csv\n",
    "    if n_csv>0:\n",
    "        n_csv -= 1\n",
    "    else:\n",
    "        n_csv = len(csv_files)-1\n",
    "    show_price_sqm(n_csv)\n",
    "    show_csv_price(n_csv)\n"
   ],
   "metadata": {
    "collapsed": false
   }
  },
  {
   "cell_type": "code",
   "execution_count": 53,
   "outputs": [],
   "source": [
    "def next_plot(i):\n",
    "    global n_csv\n",
    "    if n_csv<(len(csv_files)-1):\n",
    "        n_csv += 1\n",
    "    else:\n",
    "        n_csv = 0\n",
    "    show_price_sqm(n_csv)\n",
    "    show_csv_price(n_csv)\n"
   ],
   "metadata": {
    "collapsed": false
   }
  },
  {
   "cell_type": "code",
   "execution_count": 54,
   "outputs": [
    {
     "data": {
      "text/plain": "HBox(children=(Button(description='next', style=ButtonStyle()), Button(description='before', style=ButtonStyle…",
      "application/vnd.jupyter.widget-view+json": {
       "version_major": 2,
       "version_minor": 0,
       "model_id": "cf71d8e0f5ce4a6394cdf811b0ff2baf"
      }
     },
     "metadata": {},
     "output_type": "display_data"
    },
    {
     "data": {
      "text/plain": "HBox(children=(FigureWidget({\n    'data': [{'type': 'bar',\n              'uid': '9da7d583-a486-4f1d-87d0-b4246…",
      "application/vnd.jupyter.widget-view+json": {
       "version_major": 2,
       "version_minor": 0,
       "model_id": "10ddb902de7c451a98d66941c0e2a506"
      }
     },
     "metadata": {},
     "output_type": "display_data"
    },
    {
     "ename": "AssertionError",
     "evalue": "you have too little Values.",
     "output_type": "error",
     "traceback": [
      "\u001B[0;31m---------------------------------------------------------------------------\u001B[0m",
      "\u001B[0;31mAssertionError\u001B[0m                            Traceback (most recent call last)",
      "Input \u001B[0;32mIn [54]\u001B[0m, in \u001B[0;36m<cell line: 7>\u001B[0;34m()\u001B[0m\n\u001B[1;32m      6\u001B[0m display(container1, container2)\n\u001B[1;32m      7\u001B[0m \u001B[38;5;28;01mtry\u001B[39;00m:\n\u001B[0;32m----> 8\u001B[0m     \u001B[43mshow_csv_price\u001B[49m\u001B[43m(\u001B[49m\u001B[43mn_csv\u001B[49m\u001B[43m)\u001B[49m\n\u001B[1;32m      9\u001B[0m     show_price_sqm(n_csv)\n\u001B[1;32m     10\u001B[0m \u001B[38;5;28;01mexcept\u001B[39;00m \u001B[38;5;167;01mIndexError\u001B[39;00m:\n",
      "Input \u001B[0;32mIn [51]\u001B[0m, in \u001B[0;36mshow_csv_price\u001B[0;34m(n)\u001B[0m\n\u001B[1;32m      7\u001B[0m df \u001B[38;5;241m=\u001B[39m df\u001B[38;5;241m.\u001B[39msort_values(\u001B[38;5;124m'\u001B[39m\u001B[38;5;124mprice\u001B[39m\u001B[38;5;124m'\u001B[39m)\n\u001B[1;32m      8\u001B[0m count_arr \u001B[38;5;241m=\u001B[39m np\u001B[38;5;241m.\u001B[39mzeros(\u001B[38;5;28mlen\u001B[39m(df[\u001B[38;5;124m'\u001B[39m\u001B[38;5;124mprice\u001B[39m\u001B[38;5;124m'\u001B[39m]))\n\u001B[0;32m----> 9\u001B[0m \u001B[38;5;28;01massert\u001B[39;00m steps \u001B[38;5;241m>\u001B[39m\u001B[38;5;241m=\u001B[39m \u001B[38;5;241m50\u001B[39m, \u001B[38;5;124m\"\u001B[39m\u001B[38;5;124myou have too little Values.\u001B[39m\u001B[38;5;124m\"\u001B[39m\n\u001B[1;32m     11\u001B[0m \u001B[38;5;28;01mfor\u001B[39;00m f \u001B[38;5;129;01min\u001B[39;00m df[\u001B[38;5;124m'\u001B[39m\u001B[38;5;124mprice\u001B[39m\u001B[38;5;124m'\u001B[39m]:\n\u001B[1;32m     12\u001B[0m     n \u001B[38;5;241m=\u001B[39m (f\u001B[38;5;241m-\u001B[39m min_price )\u001B[38;5;241m/\u001B[39msteps\n",
      "\u001B[0;31mAssertionError\u001B[0m: you have too little Values."
     ]
    }
   ],
   "source": [
    "#cycle through plots\n",
    "next_prices_plot = wdg.Button(description='next')\n",
    "before_prices_plot = wdg.Button(description='before')\n",
    "container1 = wdg.HBox([next_prices_plot, before_prices_plot]) #buttons\n",
    "container2 = wdg.HBox([figure_basic_prices, figure_price_sqm])\n",
    "display(container1, container2)\n",
    "show_csv_price(n_csv)\n",
    "show_price_sqm(n_csv)\n",
    "before_prices_plot.observe(before_plot)\n",
    "next_prices_plot.observe(next_plot)"
   ],
   "metadata": {
    "collapsed": false
   }
  },
  {
   "cell_type": "code",
   "execution_count": 54,
   "outputs": [],
   "source": [],
   "metadata": {
    "collapsed": false
   }
  },
  {
   "cell_type": "code",
   "execution_count": 46,
   "outputs": [],
   "source": [],
   "metadata": {
    "collapsed": false
   }
  }
 ],
 "metadata": {
  "kernelspec": {
   "display_name": "Python 3",
   "language": "python",
   "name": "python3"
  },
  "language_info": {
   "codemirror_mode": {
    "name": "ipython",
    "version": 2
   },
   "file_extension": ".py",
   "mimetype": "text/x-python",
   "name": "python",
   "nbconvert_exporter": "python",
   "pygments_lexer": "ipython2",
   "version": "2.7.6"
  }
 },
 "nbformat": 4,
 "nbformat_minor": 0
}
